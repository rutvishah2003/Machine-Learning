{
 "cells": [
  {
   "cell_type": "code",
   "execution_count": 1,
   "metadata": {},
   "outputs": [
    {
     "name": "stdout",
     "output_type": "stream",
     "text": [
      "Requirement already satisfied: pandas in c:\\users\\admin\\anaconda3\\envs\\mlenv\\lib\\site-packages (2.2.2)\n",
      "Collecting mysql-connector-python\n",
      "  Downloading mysql_connector_python-9.1.0-cp312-cp312-win_amd64.whl.metadata (6.2 kB)\n",
      "Requirement already satisfied: numpy>=1.26.0 in c:\\users\\admin\\anaconda3\\envs\\mlenv\\lib\\site-packages (from pandas) (1.26.4)\n",
      "Requirement already satisfied: python-dateutil>=2.8.2 in c:\\users\\admin\\appdata\\roaming\\python\\python312\\site-packages (from pandas) (2.9.0.post0)\n",
      "Requirement already satisfied: pytz>=2020.1 in c:\\users\\admin\\anaconda3\\envs\\mlenv\\lib\\site-packages (from pandas) (2024.2)\n",
      "Requirement already satisfied: tzdata>=2022.7 in c:\\users\\admin\\anaconda3\\envs\\mlenv\\lib\\site-packages (from pandas) (2024.1)\n",
      "Requirement already satisfied: six>=1.5 in c:\\users\\admin\\appdata\\roaming\\python\\python312\\site-packages (from python-dateutil>=2.8.2->pandas) (1.16.0)\n",
      "Downloading mysql_connector_python-9.1.0-cp312-cp312-win_amd64.whl (16.1 MB)\n",
      "   ---------------------------------------- 0.0/16.1 MB ? eta -:--:--\n",
      "    --------------------------------------- 0.3/16.1 MB ? eta -:--:--\n",
      "   - -------------------------------------- 0.5/16.1 MB 1.2 MB/s eta 0:00:13\n",
      "   - -------------------------------------- 0.8/16.1 MB 1.3 MB/s eta 0:00:12\n",
      "   -- ------------------------------------- 1.0/16.1 MB 1.3 MB/s eta 0:00:12\n",
      "   --- ------------------------------------ 1.3/16.1 MB 1.3 MB/s eta 0:00:11\n",
      "   ---- ----------------------------------- 1.8/16.1 MB 1.5 MB/s eta 0:00:10\n",
      "   ----- ---------------------------------- 2.1/16.1 MB 1.5 MB/s eta 0:00:10\n",
      "   ------ --------------------------------- 2.6/16.1 MB 1.6 MB/s eta 0:00:09\n",
      "   ------- -------------------------------- 2.9/16.1 MB 1.7 MB/s eta 0:00:08\n",
      "   -------- ------------------------------- 3.4/16.1 MB 1.7 MB/s eta 0:00:08\n",
      "   --------- ------------------------------ 3.9/16.1 MB 1.7 MB/s eta 0:00:07\n",
      "   ---------- ----------------------------- 4.2/16.1 MB 1.7 MB/s eta 0:00:07\n",
      "   ----------- ---------------------------- 4.7/16.1 MB 1.8 MB/s eta 0:00:07\n",
      "   ------------ --------------------------- 5.0/16.1 MB 1.8 MB/s eta 0:00:07\n",
      "   ------------- -------------------------- 5.5/16.1 MB 1.8 MB/s eta 0:00:06\n",
      "   --------------- ------------------------ 6.0/16.1 MB 1.8 MB/s eta 0:00:06\n",
      "   --------------- ------------------------ 6.3/16.1 MB 1.8 MB/s eta 0:00:06\n",
      "   ---------------- ----------------------- 6.8/16.1 MB 1.8 MB/s eta 0:00:06\n",
      "   ------------------ --------------------- 7.3/16.1 MB 1.9 MB/s eta 0:00:05\n",
      "   ------------------- -------------------- 7.9/16.1 MB 1.9 MB/s eta 0:00:05\n",
      "   -------------------- ------------------- 8.4/16.1 MB 1.9 MB/s eta 0:00:04\n",
      "   ---------------------- ----------------- 8.9/16.1 MB 2.0 MB/s eta 0:00:04\n",
      "   ----------------------- ---------------- 9.4/16.1 MB 2.0 MB/s eta 0:00:04\n",
      "   ------------------------ --------------- 10.0/16.1 MB 2.0 MB/s eta 0:00:04\n",
      "   -------------------------- ------------- 10.5/16.1 MB 2.0 MB/s eta 0:00:03\n",
      "   -------------------------- ------------- 10.7/16.1 MB 2.0 MB/s eta 0:00:03\n",
      "   --------------------------- ------------ 11.0/16.1 MB 2.0 MB/s eta 0:00:03\n",
      "   ---------------------------- ----------- 11.5/16.1 MB 2.0 MB/s eta 0:00:03\n",
      "   ------------------------------ --------- 12.1/16.1 MB 2.0 MB/s eta 0:00:02\n",
      "   ------------------------------ --------- 12.3/16.1 MB 2.0 MB/s eta 0:00:02\n",
      "   ------------------------------- -------- 12.8/16.1 MB 2.0 MB/s eta 0:00:02\n",
      "   --------------------------------- ------ 13.4/16.1 MB 2.0 MB/s eta 0:00:02\n",
      "   --------------------------------- ------ 13.6/16.1 MB 2.0 MB/s eta 0:00:02\n",
      "   ----------------------------------- ---- 14.2/16.1 MB 2.0 MB/s eta 0:00:01\n",
      "   ------------------------------------ --- 14.7/16.1 MB 2.0 MB/s eta 0:00:01\n",
      "   -------------------------------------- - 15.5/16.1 MB 2.1 MB/s eta 0:00:01\n",
      "   ---------------------------------------  16.0/16.1 MB 2.1 MB/s eta 0:00:01\n",
      "   ---------------------------------------- 16.1/16.1 MB 2.1 MB/s eta 0:00:00\n",
      "Installing collected packages: mysql-connector-python\n",
      "Successfully installed mysql-connector-python-9.1.0\n"
     ]
    }
   ],
   "source": [
    "!pip install pandas mysql-connector-python"
   ]
  },
  {
   "cell_type": "code",
   "execution_count": 2,
   "metadata": {},
   "outputs": [
    {
     "name": "stdout",
     "output_type": "stream",
     "text": [
      "   EnrollmentNo     Name  Marks  Department\n",
      "0             1     Riya     86    Computer\n",
      "1             2  Manisha     75       CIvil\n",
      "2             3      Ami     80  Electrical\n",
      "3             4    Jinal     90          IT\n"
     ]
    }
   ],
   "source": [
    "import pandas as pd\n",
    "import mysql.connector\n",
    "import warnings\n",
    "\n",
    "warnings.filterwarnings(\"ignore\")\n",
    "connection = mysql.connector.connect(\n",
    "    host='localhost',\n",
    "    user='root',\n",
    "    password='Star@123**',\n",
    "    database='emp'\n",
    ")\n",
    "\n",
    "query = \"SELECT * FROM students;\"\n",
    "\n",
    "df = pd.read_sql(query, connection)\n",
    "\n",
    "connection.close()\n",
    "\n",
    "print(df)\n"
   ]
  },
  {
   "cell_type": "code",
   "execution_count": null,
   "metadata": {},
   "outputs": [],
   "source": []
  }
 ],
 "metadata": {
  "kernelspec": {
   "display_name": "mlenv",
   "language": "python",
   "name": "python3"
  },
  "language_info": {
   "codemirror_mode": {
    "name": "ipython",
    "version": 3
   },
   "file_extension": ".py",
   "mimetype": "text/x-python",
   "name": "python",
   "nbconvert_exporter": "python",
   "pygments_lexer": "ipython3",
   "version": "3.12.5"
  }
 },
 "nbformat": 4,
 "nbformat_minor": 2
}
