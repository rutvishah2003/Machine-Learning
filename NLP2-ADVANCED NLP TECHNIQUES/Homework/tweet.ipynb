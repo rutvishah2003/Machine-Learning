{
 "cells": [
  {
   "cell_type": "code",
   "execution_count": 8,
   "metadata": {},
   "outputs": [
    {
     "data": {
      "text/html": [
       "<div>\n",
       "<style scoped>\n",
       "    .dataframe tbody tr th:only-of-type {\n",
       "        vertical-align: middle;\n",
       "    }\n",
       "\n",
       "    .dataframe tbody tr th {\n",
       "        vertical-align: top;\n",
       "    }\n",
       "\n",
       "    .dataframe thead th {\n",
       "        text-align: right;\n",
       "    }\n",
       "</style>\n",
       "<table border=\"1\" class=\"dataframe\">\n",
       "  <thead>\n",
       "    <tr style=\"text-align: right;\">\n",
       "      <th></th>\n",
       "      <th>id</th>\n",
       "      <th>tweet</th>\n",
       "    </tr>\n",
       "  </thead>\n",
       "  <tbody>\n",
       "    <tr>\n",
       "      <th>0</th>\n",
       "      <td>31963</td>\n",
       "      <td>#studiolife #aislife #requires #passion #dedic...</td>\n",
       "    </tr>\n",
       "    <tr>\n",
       "      <th>1</th>\n",
       "      <td>31964</td>\n",
       "      <td>@user #white #supremacists want everyone to s...</td>\n",
       "    </tr>\n",
       "    <tr>\n",
       "      <th>2</th>\n",
       "      <td>31965</td>\n",
       "      <td>safe ways to heal your #acne!!    #altwaystohe...</td>\n",
       "    </tr>\n",
       "    <tr>\n",
       "      <th>3</th>\n",
       "      <td>31966</td>\n",
       "      <td>is the hp and the cursed child book up for res...</td>\n",
       "    </tr>\n",
       "    <tr>\n",
       "      <th>4</th>\n",
       "      <td>31967</td>\n",
       "      <td>3rd #bihday to my amazing, hilarious #nephew...</td>\n",
       "    </tr>\n",
       "  </tbody>\n",
       "</table>\n",
       "</div>"
      ],
      "text/plain": [
       "      id                                              tweet\n",
       "0  31963  #studiolife #aislife #requires #passion #dedic...\n",
       "1  31964   @user #white #supremacists want everyone to s...\n",
       "2  31965  safe ways to heal your #acne!!    #altwaystohe...\n",
       "3  31966  is the hp and the cursed child book up for res...\n",
       "4  31967    3rd #bihday to my amazing, hilarious #nephew..."
      ]
     },
     "execution_count": 8,
     "metadata": {},
     "output_type": "execute_result"
    }
   ],
   "source": [
    "import pandas as pd\n",
    "\n",
    "# Load the datasets\n",
    "train_df = pd.read_csv('train_tweet.csv')\n",
    "test_df = pd.read_csv('test_tweets.csv')\n",
    "\n",
    "# Display the first few rows of each dataset\n",
    "train_df.head()\n",
    "test_df.head()\n"
   ]
  },
  {
   "cell_type": "code",
   "execution_count": 5,
   "metadata": {},
   "outputs": [
    {
     "name": "stderr",
     "output_type": "stream",
     "text": [
      "[nltk_data] Downloading package stopwords to\n",
      "[nltk_data]     C:\\Users\\Admin\\AppData\\Roaming\\nltk_data...\n",
      "[nltk_data]   Package stopwords is already up-to-date!\n"
     ]
    },
    {
     "data": {
      "text/plain": [
       "(                                               tweet  \\\n",
       " 0   @user when a father is dysfunctional and is s...   \n",
       " 1  @user @user thanks for #lyft credit i can't us...   \n",
       " 2                                bihday your majesty   \n",
       " 3  #model   i love u take with u all the time in ...   \n",
       " 4             factsguide: society now    #motivation   \n",
       " \n",
       "                                        cleaned_tweet  \n",
       " 0  father dysfunctional selfish drags kids dysfun...  \n",
       " 1  thanks lyft credit cant use cause dont offer w...  \n",
       " 2                                     bihday majesty  \n",
       " 3                        model love u take u time ur  \n",
       " 4                      factsguide society motivation  ,\n",
       "                                                tweet  \\\n",
       " 0  #studiolife #aislife #requires #passion #dedic...   \n",
       " 1   @user #white #supremacists want everyone to s...   \n",
       " 2  safe ways to heal your #acne!!    #altwaystohe...   \n",
       " 3  is the hp and the cursed child book up for res...   \n",
       " 4    3rd #bihday to my amazing, hilarious #nephew...   \n",
       " \n",
       "                                        cleaned_tweet  \n",
       " 0  studiolife aislife requires passion dedication...  \n",
       " 1  white supremacists want everyone see new birds...  \n",
       " 2  safe ways heal acne altwaystoheal healthy healing  \n",
       " 3  hp cursed child book reservations already yes ...  \n",
       " 4  rd bihday amazing hilarious nephew eli ahmir u...  )"
      ]
     },
     "execution_count": 5,
     "metadata": {},
     "output_type": "execute_result"
    }
   ],
   "source": [
    "import re\n",
    "import nltk\n",
    "from nltk.corpus import stopwords\n",
    "\n",
    "# Download stopwords\n",
    "nltk.download('stopwords')\n",
    "stop_words = set(stopwords.words('english'))\n",
    "\n",
    "# Function to clean text\n",
    "def clean_text(text):\n",
    "    # Remove user mentions, URLs, and special characters\n",
    "    text = re.sub(r'@[\\w]*', '', text)  # remove @user\n",
    "    text = re.sub(r'http\\S+|www\\S+', '', text)  # remove URLs\n",
    "    text = re.sub(r'[^a-zA-Z\\s]', '', text)  # keep only letters\n",
    "    text = text.lower()  # convert to lowercase\n",
    "    # Remove stop words\n",
    "    text = ' '.join(word for word in text.split() if word not in stop_words)\n",
    "    return text\n",
    "\n",
    "# Apply cleaning function to the tweet column in both datasets\n",
    "train_df['cleaned_tweet'] = train_df['tweet'].apply(clean_text)\n",
    "test_df['cleaned_tweet'] = test_df['tweet'].apply(clean_text)\n",
    "\n",
    "# Display cleaned tweets\n",
    "train_df[['tweet', 'cleaned_tweet']].head(), test_df[['tweet', 'cleaned_tweet']].head()\n"
   ]
  },
  {
   "cell_type": "code",
   "execution_count": 6,
   "metadata": {},
   "outputs": [
    {
     "data": {
      "text/plain": [
       "(                                               tweet  \\\n",
       " 0   @user when a father is dysfunctional and is s...   \n",
       " 1  @user @user thanks for #lyft credit i can't us...   \n",
       " 2                                bihday your majesty   \n",
       " 3  #model   i love u take with u all the time in ...   \n",
       " 4             factsguide: society now    #motivation   \n",
       " \n",
       "                                        cleaned_tweet  \n",
       " 0  father dysfunctional selfish drags kids dysfun...  \n",
       " 1  thanks lyft credit cant use cause dont offer w...  \n",
       " 2                                     bihday majesty  \n",
       " 3                        model love u take u time ur  \n",
       " 4                      factsguide society motivation  ,\n",
       "                                                tweet  \\\n",
       " 0  #studiolife #aislife #requires #passion #dedic...   \n",
       " 1   @user #white #supremacists want everyone to s...   \n",
       " 2  safe ways to heal your #acne!!    #altwaystohe...   \n",
       " 3  is the hp and the cursed child book up for res...   \n",
       " 4    3rd #bihday to my amazing, hilarious #nephew...   \n",
       " \n",
       "                                        cleaned_tweet  \n",
       " 0  studiolife aislife requires passion dedication...  \n",
       " 1  white supremacists want everyone see new birds...  \n",
       " 2  safe ways heal acne altwaystoheal healthy healing  \n",
       " 3  hp cursed child book reservations already yes ...  \n",
       " 4  rd bihday amazing hilarious nephew eli ahmir u...  )"
      ]
     },
     "execution_count": 6,
     "metadata": {},
     "output_type": "execute_result"
    }
   ],
   "source": [
    "# Define a basic list of common stop words as a substitute for nltk's stopwords\n",
    "basic_stop_words = {\n",
    "    'i', 'me', 'my', 'myself', 'we', 'our', 'ours', 'ourselves', 'you', \"you're\", \"you've\", \"you'll\", \"you'd\", 'your',\n",
    "    'yours', 'yourself', 'yourselves', 'he', 'him', 'his', 'himself', 'she', \"she's\", 'her', 'hers', 'herself', 'it', \n",
    "    \"it's\", 'its', 'itself', 'they', 'them', 'their', 'theirs', 'themselves', 'what', 'which', 'who', 'whom', 'this', \n",
    "    'that', \"that'll\", 'these', 'those', 'am', 'is', 'are', 'was', 'were', 'be', 'been', 'being', 'have', 'has', 'had', \n",
    "    'having', 'do', 'does', 'did', 'doing', 'a', 'an', 'the', 'and', 'but', 'if', 'or', 'because', 'as', 'until', 'while', \n",
    "    'of', 'at', 'by', 'for', 'with', 'about', 'against', 'between', 'into', 'through', 'during', 'before', 'after', 'above', \n",
    "    'below', 'to', 'from', 'up', 'down', 'in', 'out', 'on', 'off', 'over', 'under', 'again', 'further', 'then', 'once', \n",
    "    'here', 'there', 'when', 'where', 'why', 'how', 'all', 'any', 'both', 'each', 'few', 'more', 'most', 'other', 'some', \n",
    "    'such', 'no', 'nor', 'not', 'only', 'own', 'same', 'so', 'than', 'too', 'very', 's', 't', 'can', 'will', 'just', \n",
    "    'don', \"don't\", 'should', \"should've\", 'now', 'd', 'll', 'm', 'o', 're', 've', 'y', 'ain', 'aren', \"aren't\", 'couldn', \n",
    "    \"couldn't\", 'didn', \"didn't\", 'doesn', \"doesn't\", 'hadn', \"hadn't\", 'hasn', \"hasn't\", 'haven', \"haven't\", 'isn', \n",
    "    \"isn't\", 'ma', 'mightn', \"mightn't\", 'mustn', \"mustn't\", 'needn', \"needn't\", 'shan', \"shan't\", 'shouldn', \"shouldn't\", \n",
    "    'wasn', \"wasn't\", 'weren', \"weren't\", 'won', \"won't\", 'wouldn', \"wouldn't\"\n",
    "}\n",
    "\n",
    "# Update the cleaning function to use the basic_stop_words\n",
    "def clean_text_basic(text):\n",
    "    text = re.sub(r'@[\\w]*', '', text)  # remove @user mentions\n",
    "    text = re.sub(r'http\\S+|www\\S+', '', text)  # remove URLs\n",
    "    text = re.sub(r'[^a-zA-Z\\s]', '', text)  # keep only letters\n",
    "    text = text.lower()  # convert to lowercase\n",
    "    # Remove stop words\n",
    "    text = ' '.join(word for word in text.split() if word not in basic_stop_words)\n",
    "    return text\n",
    "\n",
    "# Apply the updated cleaning function to the tweet column in both datasets\n",
    "train_df['cleaned_tweet'] = train_df['tweet'].apply(clean_text_basic)\n",
    "test_df['cleaned_tweet'] = test_df['tweet'].apply(clean_text_basic)\n",
    "\n",
    "# Display cleaned tweets\n",
    "train_df[['tweet', 'cleaned_tweet']].head(), test_df[['tweet', 'cleaned_tweet']].head()\n"
   ]
  },
  {
   "cell_type": "code",
   "execution_count": 7,
   "metadata": {},
   "outputs": [
    {
     "data": {
      "text/plain": [
       "((31962, 100), (31962,))"
      ]
     },
     "execution_count": 7,
     "metadata": {},
     "output_type": "execute_result"
    }
   ],
   "source": [
    "from tensorflow.keras.preprocessing.text import Tokenizer\n",
    "from tensorflow.keras.preprocessing.sequence import pad_sequences\n",
    "\n",
    "# Define parameters\n",
    "max_vocab_size = 10000  # Maximum vocabulary size for tokenizer\n",
    "max_sequence_length = 100  # Maximum sequence length for padding\n",
    "\n",
    "# Tokenize and pad sequences\n",
    "tokenizer = Tokenizer(num_words=max_vocab_size, oov_token=\"<OOV>\")\n",
    "tokenizer.fit_on_texts(train_df['cleaned_tweet'])\n",
    "\n",
    "# Convert text to sequences and pad them\n",
    "X_train = tokenizer.texts_to_sequences(train_df['cleaned_tweet'])\n",
    "X_train_padded = pad_sequences(X_train, maxlen=max_sequence_length, padding='post', truncating='post')\n",
    "\n",
    "# Prepare labels\n",
    "y_train = train_df['label'].values\n",
    "\n",
    "# Check the shape of the padded sequences and labels\n",
    "X_train_padded.shape, y_train.shape\n"
   ]
  },
  {
   "cell_type": "code",
   "execution_count": null,
   "metadata": {},
   "outputs": [],
   "source": [
    "from tensorflow.keras.models import Sequential\n",
    "from tensorflow.keras.layers import Embedding, LSTM, Dense, Dropout\n",
    "from tensorflow.keras.callbacks import EarlyStopping\n",
    "\n",
    "# Model parameters\n",
    "embedding_dim = 64\n",
    "lstm_units = 128\n",
    "\n",
    "# Build the LSTM model\n",
    "model = Sequential([\n",
    "    Embedding(input_dim=max_vocab_size, output_dim=embedding_dim, input_length=max_sequence_length),\n",
    "    LSTM(units=lstm_units, return_sequences=True),\n",
    "    Dropout(0.2),\n",
    "    LSTM(units=lstm_units),\n",
    "    Dropout(0.2),\n",
    "    Dense(64, activation='relu'),\n",
    "    Dense(1, activation='sigmoid')  # Sigmoid for binary classification\n",
    "])\n",
    "\n",
    "# Compile the model\n",
    "model.compile(optimizer='adam', loss='binary_crossentropy', metrics=['accuracy'])\n",
    "\n",
    "# Train the model\n",
    "early_stopping = EarlyStopping(monitor='val_loss', patience=3, restore_best_weights=True)\n",
    "history = model.fit(X_train_padded, y_train, epochs=10, batch_size=32, validation_split=0.2, callbacks=[early_stopping])\n",
    "\n",
    "# Model evaluation and test predictions\n",
    "# Prepare test data\n",
    "X_test = tokenizer.texts_to_sequences(test_df['cleaned_tweet'])\n",
    "X_test_padded = pad_sequences(X_test, maxlen=max_sequence_length, padding='post', truncating='post')\n",
    "\n",
    "# Predict sentiment for the test dataset\n",
    "test_predictions = (model.predict(X_test_padded) > 0.5).astype(\"int32\")\n",
    "\n",
    "# Save predictions to a DataFrame and export as CSV\n",
    "test_df['label'] = test_predictions\n",
    "test_df[['id', 'label']].to_csv('test_predictions.csv', index=False)\n",
    "\n",
    "print(\"Model training complete. Predictions saved to 'test_predictions.csv'.\")\n"
   ]
  },
  {
   "cell_type": "code",
   "execution_count": null,
   "metadata": {},
   "outputs": [],
   "source": []
  }
 ],
 "metadata": {
  "kernelspec": {
   "display_name": "mlenv",
   "language": "python",
   "name": "python3"
  },
  "language_info": {
   "codemirror_mode": {
    "name": "ipython",
    "version": 3
   },
   "file_extension": ".py",
   "mimetype": "text/x-python",
   "name": "python",
   "nbconvert_exporter": "python",
   "pygments_lexer": "ipython3",
   "version": "3.12.5"
  }
 },
 "nbformat": 4,
 "nbformat_minor": 2
}
