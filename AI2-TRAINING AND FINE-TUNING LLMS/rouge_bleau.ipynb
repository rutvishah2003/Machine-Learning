{
 "cells": [
  {
   "cell_type": "code",
   "execution_count": 1,
   "metadata": {},
   "outputs": [
    {
     "name": "stderr",
     "output_type": "stream",
     "text": [
      "c:\\Users\\Rutvi Shah\\anaconda3\\envs\\victus\\Lib\\site-packages\\tqdm\\auto.py:21: TqdmWarning: IProgress not found. Please update jupyter and ipywidgets. See https://ipywidgets.readthedocs.io/en/stable/user_install.html\n",
      "  from .autonotebook import tqdm as notebook_tqdm\n"
     ]
    },
    {
     "name": "stdout",
     "output_type": "stream",
     "text": [
      "ROUGE scores: {'rouge1': 0.7777777777777778, 'rouge2': 0.5, 'rougeL': 0.7777777777777778, 'rougeLsum': 0.7777777777777778}\n"
     ]
    }
   ],
   "source": [
    "import evaluate\n",
    "\n",
    "# ROUGE evaluation metric\n",
    "rouge = evaluate.load(\"rouge\")\n",
    "\n",
    "# Sample human reference summary (ideal output)\n",
    "reference_summary = [\"The quick brown fox jumped over the lazy dog.\"]\n",
    "\n",
    "# Sample generated summary (model's output)\n",
    "generated_summary = [\"The fast brown fox leapt over the lazy dog.\"]\n",
    "\n",
    "# Compute ROUGE score\n",
    "results = rouge.compute(predictions=generated_summary, references=reference_summary)\n",
    "\n",
    "# Print ROUGE score results (ROUGE-1, ROUGE-2, ROUGE-L)\n",
    "print(\"ROUGE scores:\", results)\n"
   ]
  },
  {
   "cell_type": "code",
   "execution_count": 2,
   "metadata": {},
   "outputs": [
    {
     "name": "stdout",
     "output_type": "stream",
     "text": [
      "BLEU score: 0\n"
     ]
    }
   ],
   "source": [
    "import nltk\n",
    "from nltk.translate.bleu_score import sentence_bleu\n",
    "reference_summary = [\"The quick brown fox jumped over the lazy dog.\"]\n",
    "generated_summary = [\"The fast brown fox leapt over the lazy dog.\"]\n",
    "bleu_score = sentence_bleu(reference_summary, generated_summary)\n",
    "print(\"BLEU score:\", bleu_score)\n"
   ]
  },
  {
   "cell_type": "code",
   "execution_count": 3,
   "metadata": {},
   "outputs": [
    {
     "name": "stdout",
     "output_type": "stream",
     "text": [
      "BLEU score: 0.5410822690539396\n"
     ]
    },
    {
     "name": "stderr",
     "output_type": "stream",
     "text": [
      "[nltk_data] Downloading package punkt to C:\\Users\\Rutvi\n",
      "[nltk_data]     Shah\\AppData\\Roaming\\nltk_data...\n",
      "[nltk_data]   Package punkt is already up-to-date!\n"
     ]
    }
   ],
   "source": [
    "import nltk\n",
    "from nltk.translate.bleu_score import sentence_bleu\n",
    "nltk.download('punkt')\n",
    "reference_summaries = [\n",
    "    [\"The quick brown fox jumped over the lazy dog.\"],\n",
    "    [\"A fast brown fox jumped over the sleepy dog.\"]\n",
    "]\n",
    "generated_summary = [\"The fast brown fox leapt over the lazy dog.\"]\n",
    "reference_tokenized = [nltk.word_tokenize(ref[0].lower()) for ref in reference_summaries]\n",
    "generated_tokenized = nltk.word_tokenize(generated_summary[0].lower())\n",
    "bleu_score = sentence_bleu(reference_tokenized, generated_tokenized)\n",
    "\n",
    "print(f\"BLEU score: {bleu_score}\")\n"
   ]
  },
  {
   "cell_type": "code",
   "execution_count": null,
   "metadata": {},
   "outputs": [],
   "source": []
  }
 ],
 "metadata": {
  "kernelspec": {
   "display_name": "victus",
   "language": "python",
   "name": "python3"
  },
  "language_info": {
   "codemirror_mode": {
    "name": "ipython",
    "version": 3
   },
   "file_extension": ".py",
   "mimetype": "text/x-python",
   "name": "python",
   "nbconvert_exporter": "python",
   "pygments_lexer": "ipython3",
   "version": "3.12.7"
  }
 },
 "nbformat": 4,
 "nbformat_minor": 2
}
