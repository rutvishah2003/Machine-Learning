{
 "cells": [
  {
   "cell_type": "code",
   "execution_count": 1,
   "metadata": {},
   "outputs": [
    {
     "name": "stdout",
     "output_type": "stream",
     "text": [
      "<class 'pandas.core.frame.DataFrame'>\n",
      "RangeIndex: 941 entries, 0 to 940\n",
      "Data columns (total 7 columns):\n",
      " #   Column                       Non-Null Count  Dtype  \n",
      "---  ------                       --------------  -----  \n",
      " 0   Data                         365 non-null    object \n",
      " 1   Temperatura Media (C)        365 non-null    object \n",
      " 2   Temperatura Minima (C)       365 non-null    object \n",
      " 3   Temperatura Maxima (C)       365 non-null    object \n",
      " 4   Precipitacao (mm)            365 non-null    object \n",
      " 5   Final de Semana              365 non-null    float64\n",
      " 6   Consumo de cerveja (litros)  365 non-null    float64\n",
      "dtypes: float64(2), object(5)\n",
      "memory usage: 51.6+ KB\n"
     ]
    },
    {
     "data": {
      "text/plain": [
       "(         Data Temperatura Media (C) Temperatura Minima (C)  \\\n",
       " 0  2015-01-01                  27,3                   23,9   \n",
       " 1  2015-01-02                 27,02                   24,5   \n",
       " 2  2015-01-03                 24,82                   22,4   \n",
       " 3  2015-01-04                 23,98                   21,5   \n",
       " 4  2015-01-05                 23,82                     21   \n",
       " \n",
       "   Temperatura Maxima (C) Precipitacao (mm)  Final de Semana  \\\n",
       " 0                   32,5                 0              0.0   \n",
       " 1                   33,5                 0              0.0   \n",
       " 2                   29,9                 0              1.0   \n",
       " 3                   28,6               1,2              1.0   \n",
       " 4                   28,3                 0              0.0   \n",
       " \n",
       "    Consumo de cerveja (litros)  \n",
       " 0                       25.461  \n",
       " 1                       28.972  \n",
       " 2                       30.814  \n",
       " 3                       29.799  \n",
       " 4                       28.900  ,\n",
       " None)"
      ]
     },
     "execution_count": 1,
     "metadata": {},
     "output_type": "execute_result"
    }
   ],
   "source": [
    "# Let's first load and inspect the dataset to understand its structure and begin preprocessing.\n",
    "import pandas as pd\n",
    "\n",
    "# Load the dataset\n",
    "file_path = '/mnt/data/Consumo_cerveja.csv'\n",
    "df = pd.read_csv('Consumo_cerveja.csv')\n",
    "\n",
    "# Show the first few rows of the dataset to get an overview\n",
    "df.head(), df.info()\n"
   ]
  },
  {
   "cell_type": "code",
   "execution_count": 2,
   "metadata": {},
   "outputs": [
    {
     "name": "stderr",
     "output_type": "stream",
     "text": [
      "C:\\Users\\Admin\\AppData\\Local\\Temp\\ipykernel_18020\\1619468181.py:14: SettingWithCopyWarning: \n",
      "A value is trying to be set on a copy of a slice from a DataFrame.\n",
      "Try using .loc[row_indexer,col_indexer] = value instead\n",
      "\n",
      "See the caveats in the documentation: https://pandas.pydata.org/pandas-docs/stable/user_guide/indexing.html#returning-a-view-versus-a-copy\n",
      "  df_cleaned['Data'] = pd.to_datetime(df_cleaned['Data'], format='%Y-%m-%d')\n"
     ]
    },
    {
     "data": {
      "text/plain": [
       "(        Data  Temperatura Media (C)  Temperatura Minima (C)  \\\n",
       " 0 2015-01-01                  27.30                    23.9   \n",
       " 1 2015-01-02                  27.02                    24.5   \n",
       " 2 2015-01-03                  24.82                    22.4   \n",
       " 3 2015-01-04                  23.98                    21.5   \n",
       " 4 2015-01-05                  23.82                    21.0   \n",
       " \n",
       "    Temperatura Maxima (C)  Precipitacao (mm)  Final de Semana  \\\n",
       " 0                    32.5                0.0              0.0   \n",
       " 1                    33.5                0.0              0.0   \n",
       " 2                    29.9                0.0              1.0   \n",
       " 3                    28.6                1.2              1.0   \n",
       " 4                    28.3                0.0              0.0   \n",
       " \n",
       "    Consumo de cerveja (litros)  \n",
       " 0                       25.461  \n",
       " 1                       28.972  \n",
       " 2                       30.814  \n",
       " 3                       29.799  \n",
       " 4                       28.900  ,\n",
       " Data                           576\n",
       " Temperatura Media (C)          576\n",
       " Temperatura Minima (C)         576\n",
       " Temperatura Maxima (C)         576\n",
       " Precipitacao (mm)              576\n",
       " Final de Semana                576\n",
       " Consumo de cerveja (litros)    576\n",
       " dtype: int64)"
      ]
     },
     "execution_count": 2,
     "metadata": {},
     "output_type": "execute_result"
    }
   ],
   "source": [
    "# Preprocessing\n",
    "\n",
    "# Step 1: Replace commas with periods in numeric columns and convert to float\n",
    "numeric_columns = ['Temperatura Media (C)', 'Temperatura Minima (C)', 'Temperatura Maxima (C)', 'Precipitacao (mm)']\n",
    "df[numeric_columns] = df[numeric_columns].replace({',': '.'}, regex=True).astype(float)\n",
    "\n",
    "# Step 2: Check for missing values\n",
    "missing_values = df.isnull().sum()\n",
    "\n",
    "# Dropping rows with missing values for simplicity (since the majority of rows are complete)\n",
    "df_cleaned = df.dropna()\n",
    "\n",
    "# Convert the 'Data' column to datetime format\n",
    "df_cleaned['Data'] = pd.to_datetime(df_cleaned['Data'], format='%Y-%m-%d')\n",
    "\n",
    "# Display the cleaned data and missing value summary\n",
    "df_cleaned.head(), missing_values\n"
   ]
  },
  {
   "cell_type": "code",
   "execution_count": 3,
   "metadata": {},
   "outputs": [
    {
     "data": {
      "text/plain": [
       "(                      Data  Temperatura Media (C)  Temperatura Minima (C)  \\\n",
       " count                  365             365.000000              365.000000   \n",
       " mean   2015-07-02 00:00:00              21.226356               17.461370   \n",
       " min    2015-01-01 00:00:00              12.900000               10.600000   \n",
       " 25%    2015-04-02 00:00:00              19.020000               15.300000   \n",
       " 50%    2015-07-02 00:00:00              21.380000               17.900000   \n",
       " 75%    2015-10-01 00:00:00              23.280000               19.600000   \n",
       " max    2015-12-31 00:00:00              28.860000               24.500000   \n",
       " std                    NaN               3.180108                2.826185   \n",
       " \n",
       "        Temperatura Maxima (C)  Precipitacao (mm)  Final de Semana  \\\n",
       " count              365.000000         365.000000       365.000000   \n",
       " mean                26.611507           5.196712         0.284932   \n",
       " min                 14.500000           0.000000         0.000000   \n",
       " 25%                 23.800000           0.000000         0.000000   \n",
       " 50%                 26.900000           0.000000         0.000000   \n",
       " 75%                 29.400000           3.200000         1.000000   \n",
       " max                 36.500000          94.800000         1.000000   \n",
       " std                  4.317366          12.417844         0.452001   \n",
       " \n",
       "        Consumo de cerveja (litros)  \n",
       " count                   365.000000  \n",
       " mean                     25.401367  \n",
       " min                      14.343000  \n",
       " 25%                      22.008000  \n",
       " 50%                      24.867000  \n",
       " 75%                      28.631000  \n",
       " max                      37.937000  \n",
       " std                       4.399143  ,\n",
       "                                  Data  Temperatura Media (C)  \\\n",
       " Data                         1.000000              -0.098616   \n",
       " Temperatura Media (C)       -0.098616               1.000000   \n",
       " Temperatura Minima (C)      -0.170081               0.862752   \n",
       " Temperatura Maxima (C)      -0.068926               0.922513   \n",
       " Precipitacao (mm)            0.007490               0.024416   \n",
       " Final de Semana             -0.005991              -0.050803   \n",
       " Consumo de cerveja (litros)  0.043541               0.574615   \n",
       " \n",
       "                              Temperatura Minima (C)  Temperatura Maxima (C)  \\\n",
       " Data                                      -0.170081               -0.068926   \n",
       " Temperatura Media (C)                      0.862752                0.922513   \n",
       " Temperatura Minima (C)                     1.000000                0.672929   \n",
       " Temperatura Maxima (C)                     0.672929                1.000000   \n",
       " Precipitacao (mm)                          0.098625               -0.049305   \n",
       " Final de Semana                           -0.059534               -0.040258   \n",
       " Consumo de cerveja (litros)                0.392509                0.642672   \n",
       " \n",
       "                              Precipitacao (mm)  Final de Semana  \\\n",
       " Data                                  0.007490        -0.005991   \n",
       " Temperatura Media (C)                 0.024416        -0.050803   \n",
       " Temperatura Minima (C)                0.098625        -0.059534   \n",
       " Temperatura Maxima (C)               -0.049305        -0.040258   \n",
       " Precipitacao (mm)                     1.000000         0.001587   \n",
       " Final de Semana                       0.001587         1.000000   \n",
       " Consumo de cerveja (litros)          -0.193784         0.505981   \n",
       " \n",
       "                              Consumo de cerveja (litros)  \n",
       " Data                                            0.043541  \n",
       " Temperatura Media (C)                           0.574615  \n",
       " Temperatura Minima (C)                          0.392509  \n",
       " Temperatura Maxima (C)                          0.642672  \n",
       " Precipitacao (mm)                              -0.193784  \n",
       " Final de Semana                                 0.505981  \n",
       " Consumo de cerveja (litros)                     1.000000  )"
      ]
     },
     "execution_count": 3,
     "metadata": {},
     "output_type": "execute_result"
    }
   ],
   "source": [
    "# Summary statistics and correlation matrix for EDA\n",
    "\n",
    "# Step 1: Summary statistics\n",
    "summary_stats = df_cleaned.describe()\n",
    "\n",
    "# Step 2: Correlation matrix to understand the relationships\n",
    "correlation_matrix = df_cleaned.corr()\n",
    "\n",
    "summary_stats, correlation_matrix\n"
   ]
  },
  {
   "cell_type": "code",
   "execution_count": 4,
   "metadata": {},
   "outputs": [
    {
     "name": "stderr",
     "output_type": "stream",
     "text": [
      "c:\\Users\\Admin\\anaconda3\\envs\\mlenv\\Lib\\site-packages\\sklearn\\neural_network\\_multilayer_perceptron.py:690: ConvergenceWarning: Stochastic Optimizer: Maximum iterations (500) reached and the optimization hasn't converged yet.\n",
      "  warnings.warn(\n"
     ]
    },
    {
     "data": {
      "text/plain": [
       "(5.06268442858314, 6.241977065445645, 0.7237133130595612, 0.7183106119161324)"
      ]
     },
     "execution_count": 4,
     "metadata": {},
     "output_type": "execute_result"
    }
   ],
   "source": [
    "# Importing necessary libraries for building a neural network model\n",
    "from sklearn.model_selection import train_test_split\n",
    "from sklearn.preprocessing import StandardScaler\n",
    "from sklearn.neural_network import MLPRegressor\n",
    "from sklearn.metrics import mean_squared_error, r2_score\n",
    "\n",
    "# Selecting features (X) and target (y)\n",
    "X = df_cleaned[['Temperatura Media (C)', 'Temperatura Minima (C)', 'Temperatura Maxima (C)', 'Precipitacao (mm)', 'Final de Semana']]\n",
    "y = df_cleaned['Consumo de cerveja (litros)']\n",
    "\n",
    "# Split the data into training and test sets (80% train, 20% test)\n",
    "X_train, X_test, y_train, y_test = train_test_split(X, y, test_size=0.2, random_state=42)\n",
    "\n",
    "# Standardize the data (important for neural networks)\n",
    "scaler = StandardScaler()\n",
    "X_train_scaled = scaler.fit_transform(X_train)\n",
    "X_test_scaled = scaler.transform(X_test)\n",
    "\n",
    "# Build a neural network model using MLPRegressor\n",
    "mlp = MLPRegressor(hidden_layer_sizes=(64, 32), activation='relu', max_iter=500, random_state=42)\n",
    "mlp.fit(X_train_scaled, y_train)\n",
    "\n",
    "# Predictions and evaluation\n",
    "y_train_pred = mlp.predict(X_train_scaled)\n",
    "y_test_pred = mlp.predict(X_test_scaled)\n",
    "\n",
    "# Evaluate the model using Mean Squared Error (MSE) and R-squared (R²)\n",
    "train_mse = mean_squared_error(y_train, y_train_pred)\n",
    "test_mse = mean_squared_error(y_test, y_test_pred)\n",
    "train_r2 = r2_score(y_train, y_train_pred)\n",
    "test_r2 = r2_score(y_test, y_test_pred)\n",
    "\n",
    "train_mse, test_mse, train_r2, test_r2\n"
   ]
  },
  {
   "cell_type": "code",
   "execution_count": null,
   "metadata": {},
   "outputs": [],
   "source": []
  }
 ],
 "metadata": {
  "kernelspec": {
   "display_name": "mlenv",
   "language": "python",
   "name": "python3"
  },
  "language_info": {
   "codemirror_mode": {
    "name": "ipython",
    "version": 3
   },
   "file_extension": ".py",
   "mimetype": "text/x-python",
   "name": "python",
   "nbconvert_exporter": "python",
   "pygments_lexer": "ipython3",
   "version": "3.12.5"
  }
 },
 "nbformat": 4,
 "nbformat_minor": 2
}
